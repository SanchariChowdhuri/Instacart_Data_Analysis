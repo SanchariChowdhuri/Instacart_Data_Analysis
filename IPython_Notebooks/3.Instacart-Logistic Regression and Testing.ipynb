{
 "cells": [
  {
   "cell_type": "markdown",
   "metadata": {},
   "source": [
    "# Implementation of Logistic Regression  and Random Forest"
   ]
  },
  {
   "cell_type": "code",
   "execution_count": 1,
   "metadata": {},
   "outputs": [],
   "source": [
    "import pandas as pd\n",
    "import numpy as np\n",
    "from collections import OrderedDict\n",
    "\n",
    "from sklearn.linear_model import LogisticRegression\n",
    "from sklearn.metrics import f1_score\n",
    "from sklearn.metrics import accuracy_score\n",
    "\n",
    "from sklearn import metrics \n",
    "from sklearn.model_selection import cross_validate\n",
    "from sklearn.metrics import f1_score\n",
    "from sklearn.preprocessing import MinMaxScaler"
   ]
  },
  {
   "cell_type": "markdown",
   "metadata": {},
   "source": [
    "Loading training data obtained after feature creation process for user based features, product based features and user-product based feature. Refer 2.Instacart-feature_engineering and flatfile creation process.ipynb "
   ]
  },
  {
   "cell_type": "code",
   "execution_count": 2,
   "metadata": {},
   "outputs": [],
   "source": [
    "#training data\n",
    "df_X=pd.read_csv(\"flatfile_5june_complete.csv\")"
   ]
  },
  {
   "cell_type": "markdown",
   "metadata": {},
   "source": [
    "The test data just contains orderid and products corresponding to the current order. \n",
    "\n",
    "But in order to predict whether a product will be present in the current order or not, many user based features, product based features and user-product based features are required. This will be obtained following steps mentioned in **testdata_flatfile.ipynb.**\n"
   ]
  },
  {
   "cell_type": "code",
   "execution_count": 3,
   "metadata": {},
   "outputs": [],
   "source": [
    "#final testing data\n",
    "df_Test=pd.read_csv(\"flatfile_testdata.csv\")"
   ]
  },
  {
   "cell_type": "markdown",
   "metadata": {},
   "source": [
    "### Segregating Training data (flatfile) to testing  data, validation data and training data"
   ]
  },
  {
   "cell_type": "code",
   "execution_count": 3,
   "metadata": {},
   "outputs": [],
   "source": [
    "np.random.seed(100)\n",
    "\n",
    "#obtain list of unique user ids . They are training user ids\n",
    "total_users = df_X['user_id'].unique() \n",
    "\n",
    "#obtain list of test user ids by randomly choosing 20% of userids from total_users\n",
    "test_users = np.random.choice(total_users, size=int(total_users.shape[0] * .20), replace=False)\n",
    "\n",
    "\n",
    "#obtaining training data,validation data and test data.\n",
    "df_X_tr, df_X_te = df_X[~df_X['user_id'].isin(test_users)], df_X[df_X['user_id'].isin(test_users)]\n",
    "                        \n",
    "val_index = np.random.choice(df_X_tr.index, int(len(df_X_tr.index)/4), replace=False)\n",
    "df_X_val = df_X.loc[val_index]\n",
    "df_X_tr = df_X.loc[~df_X.index.isin(val_index)]                        \n",
    "\n",
    "#obtaining true labels\n",
    "y_tr, y_val, y_te = df_X_tr['in_cart'], df_X_val['in_cart'], df_X_te['in_cart']\n",
    "X_tr, X_val, X_te = df_X_tr.drop(['product_id','user_id','latest_cart','in_cart'],axis=1), \\\n",
    "             df_X_val.drop(['product_id','user_id','latest_cart','in_cart'],axis=1), \\\n",
    "             df_X_te.drop(['product_id','user_id','latest_cart','in_cart'],axis=1), \\\n",
    "        \n",
    "scaler = MinMaxScaler()\n",
    "X_tr = pd.DataFrame(scaler.fit_transform(X_tr), columns=X_tr.columns)\n",
    "X_val = pd.DataFrame(scaler.fit_transform(X_val), columns=X_val.columns)\n",
    "X_te = pd.DataFrame(scaler.fit_transform(X_te), columns=X_te.columns)\n",
    "    \n"
   ]
  },
  {
   "cell_type": "markdown",
   "metadata": {},
   "source": [
    "## Logistic Regression"
   ]
  },
  {
   "cell_type": "code",
   "execution_count": 8,
   "metadata": {},
   "outputs": [
    {
     "data": {
      "text/plain": [
       "0.852246300278243"
      ]
     },
     "execution_count": 8,
     "metadata": {},
     "output_type": "execute_result"
    }
   ],
   "source": [
    "# Create Logistic Regression classifier object\n",
    "lr = LogisticRegression(class_weight='balanced')\n",
    "\n",
    "#Train Logistic Regression classifier\n",
    "log_sm_reg=lr.fit(X_tr, y_tr)\n",
    "\n",
    "#Predicting for test data called X_te (this is obtained by splitting 20% of train data)\n",
    "y_pred_LR = log_sm_reg.predict(X_te)\n",
    "scores_LR = metrics.accuracy_score(y_te, y_pred_LR)\n",
    "scores_LR"
   ]
  },
  {
   "cell_type": "markdown",
   "metadata": {},
   "source": [
    "overall Accuracy of model is 85.22%"
   ]
  },
  {
   "cell_type": "markdown",
   "metadata": {},
   "source": [
    "### Model Performance\n",
    "#### Precision ,Recall,f1-score for  Logistic Regrssion\n",
    "0: Product is absent in latest cart(not a reorder) \n",
    "\n",
    "1: Product is present in latest cart (reorder)"
   ]
  },
  {
   "cell_type": "code",
   "execution_count": 9,
   "metadata": {},
   "outputs": [
    {
     "name": "stdout",
     "output_type": "stream",
     "text": [
      "             precision    recall  f1-score   support\n",
      "\n",
      "          0       0.94      0.90      0.92   1065128\n",
      "          1       0.34      0.47      0.39    121245\n",
      "\n",
      "avg / total       0.88      0.85      0.86   1186373\n",
      "\n"
     ]
    }
   ],
   "source": [
    "from sklearn.metrics import classification_report\n",
    "print(classification_report(y_te,y_pred_LR))"
   ]
  },
  {
   "cell_type": "markdown",
   "metadata": {},
   "source": [
    "- Of all the instances when the classifier classified a product as not being in the user's cart, 94% of times it was correct. **Precision for Class 0**:= 94%\n",
    "- For all instances that where the product was not part of user's latest order, 90% of time it was correctly classified.**Recall for Class 0**: 90%\n",
    "- **F1 Score for Class 0**: 0.92\n",
    "- In this testing dataset there were 1065128 instances of the product not being reordered.\n",
    "\n",
    "-----------------------------------------------------------------------------------------------\n",
    "- Of all the instances when the classifier classified a product as being in the user's cart, 34% of times it was correct. **Precision for Class 1**:= 34%\n",
    "- For all instances that where the product was a part of user's latest order, 47% of time it was correctly classified.**Recall for Class 1**: 47%\n",
    "- **F1 Score for Class 1**: 0.39\n",
    "- In this testing dataset there were 121245 instances of the same product being reordered.\n",
    "\n",
    "-----------------------------------------------------------------------------------------------\n",
    "\n",
    "The training and testing data has class imbalance.\n"
   ]
  },
  {
   "cell_type": "markdown",
   "metadata": {},
   "source": [
    "#### Confusion Matrix: Predicted vs true labels"
   ]
  },
  {
   "cell_type": "code",
   "execution_count": 6,
   "metadata": {},
   "outputs": [
    {
     "data": {
      "text/html": [
       "<div>\n",
       "<style scoped>\n",
       "    .dataframe tbody tr th:only-of-type {\n",
       "        vertical-align: middle;\n",
       "    }\n",
       "\n",
       "    .dataframe tbody tr th {\n",
       "        vertical-align: top;\n",
       "    }\n",
       "\n",
       "    .dataframe thead th {\n",
       "        text-align: right;\n",
       "    }\n",
       "</style>\n",
       "<table border=\"1\" class=\"dataframe\">\n",
       "  <thead>\n",
       "    <tr style=\"text-align: right;\">\n",
       "      <th>Predicted</th>\n",
       "      <th>0</th>\n",
       "      <th>1</th>\n",
       "      <th>All</th>\n",
       "    </tr>\n",
       "    <tr>\n",
       "      <th>True</th>\n",
       "      <th></th>\n",
       "      <th></th>\n",
       "      <th></th>\n",
       "    </tr>\n",
       "  </thead>\n",
       "  <tbody>\n",
       "    <tr>\n",
       "      <th>0</th>\n",
       "      <td>954025</td>\n",
       "      <td>111103</td>\n",
       "      <td>1065128</td>\n",
       "    </tr>\n",
       "    <tr>\n",
       "      <th>1</th>\n",
       "      <td>64188</td>\n",
       "      <td>57057</td>\n",
       "      <td>121245</td>\n",
       "    </tr>\n",
       "    <tr>\n",
       "      <th>All</th>\n",
       "      <td>1018213</td>\n",
       "      <td>168160</td>\n",
       "      <td>1186373</td>\n",
       "    </tr>\n",
       "  </tbody>\n",
       "</table>\n",
       "</div>"
      ],
      "text/plain": [
       "Predicted        0       1      All\n",
       "True                               \n",
       "0           954025  111103  1065128\n",
       "1            64188   57057   121245\n",
       "All        1018213  168160  1186373"
      ]
     },
     "execution_count": 6,
     "metadata": {},
     "output_type": "execute_result"
    }
   ],
   "source": [
    "pd.crosstab(y_te,y_pred, rownames=['True'], colnames=['Predicted'], margins=True)"
   ]
  },
  {
   "cell_type": "markdown",
   "metadata": {},
   "source": [
    "\n",
    "**Out of 1065128 instances of a product not being ordered** -\n",
    "- 954025 times the classifier was correctly able to predict that the product would not be reordered\n",
    "- 111103   times the classifier misclassified a not ordered product as reordered product.\n",
    "\n",
    "**Out of 121245 instances of a product being reordered** -\n",
    "- 64188 times the classifier misclassified a reordered product as not currently ordered.\n",
    "- 57057 times the classifier correctly classified product as reordered\n",
    "\n",
    "-----------------------------------------------------------------------------------------------"
   ]
  },
  {
   "cell_type": "markdown",
   "metadata": {},
   "source": [
    "#### ROC Curve"
   ]
  },
  {
   "cell_type": "code",
   "execution_count": 12,
   "metadata": {},
   "outputs": [
    {
     "data": {
      "image/png": "[encoded data removed]",
      "text/plain": [
       "<Figure size 432x288 with 1 Axes>"
      ]
     },
     "metadata": {},
     "output_type": "display_data"
    },
    {
     "name": "stdout",
     "output_type": "stream",
     "text": [
      "0.7868745505797903\n"
     ]
    }
   ],
   "source": [
    "from sklearn.metrics import roc_curve, auc\n",
    "import matplotlib.pyplot as plt\n",
    "y_score_LR = log_sm_reg.predict_proba(X_te)[:,1]\n",
    "\n",
    "fpr_LR, tpr_LR,_ = roc_curve(y_te, y_score_LR)\n",
    "roc_auc_LR = auc(fpr_LR, tpr_LR)\n",
    "\n",
    "# Plotting our Baseline..\n",
    "plt.plot([0,1],[0,1], linestyle='--', color = 'black')\n",
    "plt.plot(fpr_LR, tpr_LR, color = 'green')\n",
    "plt.title('Receiver Operating Characteristic - for Logistic Regression')\n",
    "plt.xlabel('False Positive Rate')\n",
    "plt.ylabel('True Positive Rate')\n",
    "plt.gca().set_aspect('equal', adjustable='box')\n",
    "plt.show()\n",
    "print (roc_auc_LR)"
   ]
  },
  {
   "cell_type": "code",
   "execution_count": null,
   "metadata": {},
   "outputs": [],
   "source": []
  },
  {
   "cell_type": "markdown",
   "metadata": {},
   "source": [
    "### Testing of Logistic Regression on Test dataset\n",
    "The final test data from order_products__test_cap.csv (order-product pair) is used for evaluating the performance of logistic regression "
   ]
  },
  {
   "cell_type": "code",
   "execution_count": 7,
   "metadata": {},
   "outputs": [],
   "source": [
    "#obtaining true labels of test data\n",
    "y_te_1= df_Test['in_cart']"
   ]
  },
  {
   "cell_type": "code",
   "execution_count": 8,
   "metadata": {},
   "outputs": [],
   "source": [
    "X_te_1 =df_Test.drop(['product_id','user_id','latest_cart','in_cart'],axis=1)\n",
    "X_te_1 = pd.DataFrame(scaler.fit_transform(X_te_1), columns=X_te_1.columns)"
   ]
  },
  {
   "cell_type": "code",
   "execution_count": 9,
   "metadata": {},
   "outputs": [
    {
     "data": {
      "text/plain": [
       "0.7678985455096302"
      ]
     },
     "execution_count": 9,
     "metadata": {},
     "output_type": "execute_result"
    }
   ],
   "source": [
    "#Predicting labels for test data\n",
    "y_pred_test = log_sm_reg.predict(X_te_1)\n",
    "scores = metrics.accuracy_score(y_te_1, y_pred_test)\n",
    "scores"
   ]
  },
  {
   "cell_type": "markdown",
   "metadata": {},
   "source": [
    "Accuracy on test data is 76.7%"
   ]
  },
  {
   "cell_type": "markdown",
   "metadata": {},
   "source": [
    "#### Confusion Matrix: Predicted vs true labels for TEST data"
   ]
  },
  {
   "cell_type": "code",
   "execution_count": 10,
   "metadata": {},
   "outputs": [
    {
     "data": {
      "text/html": [
       "<div>\n",
       "<style scoped>\n",
       "    .dataframe tbody tr th:only-of-type {\n",
       "        vertical-align: middle;\n",
       "    }\n",
       "\n",
       "    .dataframe tbody tr th {\n",
       "        vertical-align: top;\n",
       "    }\n",
       "\n",
       "    .dataframe thead th {\n",
       "        text-align: right;\n",
       "    }\n",
       "</style>\n",
       "<table border=\"1\" class=\"dataframe\">\n",
       "  <thead>\n",
       "    <tr style=\"text-align: right;\">\n",
       "      <th>Predicted</th>\n",
       "      <th>0</th>\n",
       "      <th>1</th>\n",
       "      <th>All</th>\n",
       "    </tr>\n",
       "    <tr>\n",
       "      <th>True</th>\n",
       "      <th></th>\n",
       "      <th></th>\n",
       "      <th></th>\n",
       "    </tr>\n",
       "  </thead>\n",
       "  <tbody>\n",
       "    <tr>\n",
       "      <th>0</th>\n",
       "      <td>1396049</td>\n",
       "      <td>390199</td>\n",
       "      <td>1786248</td>\n",
       "    </tr>\n",
       "    <tr>\n",
       "      <th>1</th>\n",
       "      <td>70991</td>\n",
       "      <td>129780</td>\n",
       "      <td>200771</td>\n",
       "    </tr>\n",
       "    <tr>\n",
       "      <th>All</th>\n",
       "      <td>1467040</td>\n",
       "      <td>519979</td>\n",
       "      <td>1987019</td>\n",
       "    </tr>\n",
       "  </tbody>\n",
       "</table>\n",
       "</div>"
      ],
      "text/plain": [
       "Predicted        0       1      All\n",
       "True                               \n",
       "0          1396049  390199  1786248\n",
       "1            70991  129780   200771\n",
       "All        1467040  519979  1987019"
      ]
     },
     "execution_count": 10,
     "metadata": {},
     "output_type": "execute_result"
    }
   ],
   "source": [
    "pd.crosstab(y_te_1,y_pred_test, rownames=['True'], colnames=['Predicted'], margins=True)"
   ]
  },
  {
   "cell_type": "markdown",
   "metadata": {},
   "source": [
    "In the testing data Out of 1987019 instances of products and its corresponding orders, Only 200771 of those products were also previously ordered by those users"
   ]
  },
  {
   "cell_type": "markdown",
   "metadata": {},
   "source": [
    "**Out of 1786248 instances of a product not being ordered ** -\n",
    "- 1396049 times the classifier was correctly able to predict that the product would not be reordered\n",
    "- 390199 times the classifier misclassified a not ordered product as reordered product.\n",
    "\n",
    "**Out of 200771 instances of a product being reordered** -\n",
    "- 70991 times the classifier misclassified a reordered product as not currently ordered.\n",
    "- 129780 times the classifier correctly classified product as reordered\n"
   ]
  },
  {
   "cell_type": "code",
   "execution_count": 11,
   "metadata": {},
   "outputs": [
    {
     "name": "stdout",
     "output_type": "stream",
     "text": [
      "             precision    recall  f1-score   support\n",
      "\n",
      "          0       0.95      0.78      0.86   1786248\n",
      "          1       0.25      0.65      0.36    200771\n",
      "\n",
      "avg / total       0.88      0.77      0.81   1987019\n",
      "\n"
     ]
    }
   ],
   "source": [
    "from sklearn.metrics import classification_report\n",
    "print(classification_report(y_te_1,y_pred_test))"
   ]
  },
  {
   "cell_type": "markdown",
   "metadata": {},
   "source": [
    "On the test dataset:\n",
    "- **Class 0** : Precision = 95% | Recall =78% | F1 Score=0.86\n",
    "- **Class 1** : Precision = 25% | Recall =65% | F1 Score=0.36"
   ]
  },
  {
   "cell_type": "code",
   "execution_count": null,
   "metadata": {},
   "outputs": [],
   "source": []
  }
 ],
 "metadata": {
  "kernelspec": {
   "display_name": "Python 2",
   "language": "python",
   "name": "python2"
  },
  "language_info": {
   "codemirror_mode": {
    "name": "ipython",
    "version": 2
   },
   "file_extension": ".py",
   "mimetype": "text/x-python",
   "name": "python",
   "nbconvert_exporter": "python",
   "pygments_lexer": "ipython2",
   "version": "2.7.15"
  }
 },
 "nbformat": 4,
 "nbformat_minor": 2
}
