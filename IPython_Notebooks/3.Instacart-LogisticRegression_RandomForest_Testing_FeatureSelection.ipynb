{
 "cells": [
  {
   "cell_type": "markdown",
   "metadata": {},
   "source": [
    "# Implementation of Logistic Regression  and Random Forest"
   ]
  },
  {
   "cell_type": "code",
   "execution_count": 1,
   "metadata": {},
   "outputs": [],
   "source": [
    "import pandas as pd\n",
    "import numpy as np\n",
    "from collections import OrderedDict\n",
    "\n",
    "from sklearn.linear_model import LogisticRegression\n",
    "from sklearn.metrics import f1_score\n",
    "from sklearn.metrics import accuracy_score\n",
    "\n",
    "from sklearn import metrics \n",
    "from sklearn.model_selection import cross_validate\n",
    "from sklearn.metrics import f1_score\n",
    "from sklearn.preprocessing import MinMaxScaler"
   ]
  },
  {
   "cell_type": "markdown",
   "metadata": {},
   "source": [
    "Loading training data obtained after feature creation process for user based features, product based features and user-product based feature. Refer 2.Instacart-feature_engineering and flatfile creation process.ipynb "
   ]
  },
  {
   "cell_type": "code",
   "execution_count": 2,
   "metadata": {},
   "outputs": [],
   "source": [
    "#training data\n",
    "df_X=pd.read_csv(\"flatfile_5june_complete.csv\")"
   ]
  },
  {
   "cell_type": "markdown",
   "metadata": {},
   "source": [
    "The test data just contains orderid and products corresponding to the current order. \n",
    "\n",
    "But in order to predict whether a product will be present in the current order or not, many user based features, product based features and user-product based features are required. This will be obtained following steps mentioned in **testdata_flatfile.ipynb.**\n"
   ]
  },
  {
   "cell_type": "code",
   "execution_count": 3,
   "metadata": {},
   "outputs": [],
   "source": [
    "#final testing data\n",
    "df_Test=pd.read_csv(\"flatfile_testdata.csv\")"
   ]
  },
  {
   "cell_type": "markdown",
   "metadata": {},
   "source": [
    "### Segregating Training data (flatfile) to testing  data, validation data and training data"
   ]
  },
  {
   "cell_type": "code",
   "execution_count": 4,
   "metadata": {},
   "outputs": [
    {
     "name": "stderr",
     "output_type": "stream",
     "text": [
      "C:\\Users\\sachowdh\\AppData\\Local\\Continuum\\anaconda2\\lib\\site-packages\\sklearn\\preprocessing\\data.py:334: DataConversionWarning: Data with input dtype int64, float64 were all converted to float64 by MinMaxScaler.\n",
      "  return self.partial_fit(X, y)\n"
     ]
    }
   ],
   "source": [
    "np.random.seed(100)\n",
    "\n",
    "#obtain list of unique user ids . They are training user ids\n",
    "total_users = df_X['user_id'].unique() \n",
    "\n",
    "#obtain list of test user ids by randomly choosing 20% of userids from total_users\n",
    "test_users = np.random.choice(total_users, size=int(total_users.shape[0] * .20), replace=False)\n",
    "\n",
    "\n",
    "#obtaining training data,validation data and test data.\n",
    "df_X_tr, df_X_te = df_X[~df_X['user_id'].isin(test_users)], df_X[df_X['user_id'].isin(test_users)]\n",
    "                        \n",
    "val_index = np.random.choice(df_X_tr.index, int(len(df_X_tr.index)/4), replace=False)\n",
    "df_X_val = df_X.loc[val_index]\n",
    "df_X_tr = df_X.loc[~df_X.index.isin(val_index)]                        \n",
    "\n",
    "#obtaining true labels\n",
    "y_tr, y_val, y_te = df_X_tr['in_cart'], df_X_val['in_cart'], df_X_te['in_cart']\n",
    "X_tr, X_val, X_te = df_X_tr.drop(['product_id','user_id','latest_cart','in_cart'],axis=1), \\\n",
    "             df_X_val.drop(['product_id','user_id','latest_cart','in_cart'],axis=1), \\\n",
    "             df_X_te.drop(['product_id','user_id','latest_cart','in_cart'],axis=1), \\\n",
    "        \n",
    "scaler = MinMaxScaler()\n",
    "X_tr = pd.DataFrame(scaler.fit_transform(X_tr), columns=X_tr.columns)\n",
    "X_val = pd.DataFrame(scaler.fit_transform(X_val), columns=X_val.columns)\n",
    "X_te = pd.DataFrame(scaler.fit_transform(X_te), columns=X_te.columns)\n",
    "    \n"
   ]
  },
  {
   "cell_type": "markdown",
   "metadata": {},
   "source": [
    "## Model 1 :Logistic Regression"
   ]
  },
  {
   "cell_type": "code",
   "execution_count": 6,
   "metadata": {},
   "outputs": [
    {
     "name": "stderr",
     "output_type": "stream",
     "text": [
      "C:\\Users\\sachowdh\\AppData\\Local\\Continuum\\anaconda2\\lib\\site-packages\\sklearn\\linear_model\\logistic.py:433: FutureWarning: Default solver will be changed to 'lbfgs' in 0.22. Specify a solver to silence this warning.\n",
      "  FutureWarning)\n"
     ]
    },
    {
     "data": {
      "text/plain": [
       "0.8522387141312218"
      ]
     },
     "execution_count": 6,
     "metadata": {},
     "output_type": "execute_result"
    }
   ],
   "source": [
    "# Create Logistic Regression classifier object\n",
    "lr = LogisticRegression(class_weight='balanced')\n",
    "\n",
    "#Train Logistic Regression classifier\n",
    "log_sm_reg=lr.fit(X_tr, y_tr)\n",
    "\n",
    "#Predicting for test data called X_te (this is obtained by splitting 20% of train data)\n",
    "y_pred_LR = log_sm_reg.predict(X_te)\n",
    "scores_LR = metrics.accuracy_score(y_te, y_pred_LR)\n",
    "scores_LR"
   ]
  },
  {
   "cell_type": "markdown",
   "metadata": {},
   "source": [
    "overall Accuracy of model is 85.22%"
   ]
  },
  {
   "cell_type": "code",
   "execution_count": 17,
   "metadata": {},
   "outputs": [
    {
     "name": "stdout",
     "output_type": "stream",
     "text": [
      "Num Features: 5\n",
      "Selected Features: [False False  True False False False False  True  True False False False\n",
      " False  True False False False  True False False False False False False\n",
      " False False False False False False False False False False False False\n",
      " False False False False False False False False]\n",
      "Feature Ranking: [22 25  1 13 20 18  4  1  1 15  3  6  2  1 12 39 23  1 10 24 19 17 40 11\n",
      " 30 29 32 36 34 38 27 28 37 33 16  9 35  5 14  8  7 21 26 31]\n"
     ]
    }
   ],
   "source": [
    "from sklearn.feature_selection import RFE\n",
    "rfe = RFE(lr, 5)\n",
    "fit = rfe.fit(X_tr, y_tr)\n",
    "print(\"Num Features: %d\") % fit.n_features_\n",
    "print(\"Selected Features: %s\") % fit.support_\n",
    "print(\"Feature Ranking: %s\") % fit.ranking_"
   ]
  },
  {
   "cell_type": "code",
   "execution_count": 18,
   "metadata": {},
   "outputs": [
    {
     "data": {
      "text/plain": [
       "0.8654504106212801"
      ]
     },
     "execution_count": 18,
     "metadata": {},
     "output_type": "execute_result"
    }
   ],
   "source": [
    "y_pred_LR_RFE = fit.predict(X_te)\n",
    "scores_LR_RFE = metrics.accuracy_score(y_te, y_pred_LR_RFE)\n",
    "scores_LR_RFE"
   ]
  },
  {
   "cell_type": "code",
   "execution_count": 19,
   "metadata": {},
   "outputs": [
    {
     "name": "stdout",
     "output_type": "stream",
     "text": [
      "              precision    recall  f1-score   support\n",
      "\n",
      "           0       0.93      0.92      0.92   1065128\n",
      "           1       0.36      0.42      0.39    121245\n",
      "\n",
      "   micro avg       0.87      0.87      0.87   1186373\n",
      "   macro avg       0.65      0.67      0.66   1186373\n",
      "weighted avg       0.87      0.87      0.87   1186373\n",
      "\n"
     ]
    }
   ],
   "source": [
    "from sklearn.metrics import classification_report\n",
    "print(classification_report(y_te,y_pred_LR_RFE))"
   ]
  },
  {
   "cell_type": "code",
   "execution_count": 20,
   "metadata": {},
   "outputs": [
    {
     "data": {
      "text/html": [
       "<div>\n",
       "<style scoped>\n",
       "    .dataframe tbody tr th:only-of-type {\n",
       "        vertical-align: middle;\n",
       "    }\n",
       "\n",
       "    .dataframe tbody tr th {\n",
       "        vertical-align: top;\n",
       "    }\n",
       "\n",
       "    .dataframe thead th {\n",
       "        text-align: right;\n",
       "    }\n",
       "</style>\n",
       "<table border=\"1\" class=\"dataframe\">\n",
       "  <thead>\n",
       "    <tr style=\"text-align: right;\">\n",
       "      <th>Predicted</th>\n",
       "      <th>0</th>\n",
       "      <th>1</th>\n",
       "      <th>All</th>\n",
       "    </tr>\n",
       "    <tr>\n",
       "      <th>True</th>\n",
       "      <th></th>\n",
       "      <th></th>\n",
       "      <th></th>\n",
       "    </tr>\n",
       "  </thead>\n",
       "  <tbody>\n",
       "    <tr>\n",
       "      <th>0</th>\n",
       "      <td>976033</td>\n",
       "      <td>89095</td>\n",
       "      <td>1065128</td>\n",
       "    </tr>\n",
       "    <tr>\n",
       "      <th>1</th>\n",
       "      <td>70531</td>\n",
       "      <td>50714</td>\n",
       "      <td>121245</td>\n",
       "    </tr>\n",
       "    <tr>\n",
       "      <th>All</th>\n",
       "      <td>1046564</td>\n",
       "      <td>139809</td>\n",
       "      <td>1186373</td>\n",
       "    </tr>\n",
       "  </tbody>\n",
       "</table>\n",
       "</div>"
      ],
      "text/plain": [
       "Predicted        0       1      All\n",
       "True                               \n",
       "0           976033   89095  1065128\n",
       "1            70531   50714   121245\n",
       "All        1046564  139809  1186373"
      ]
     },
     "execution_count": 20,
     "metadata": {},
     "output_type": "execute_result"
    }
   ],
   "source": [
    "pd.crosstab(y_te,y_pred_LR_RFE, rownames=['True'], colnames=['Predicted'], margins=True)"
   ]
  },
  {
   "cell_type": "markdown",
   "metadata": {},
   "source": [
    "### Model Performance\n",
    "#### Precision ,Recall,f1-score for  Logistic Regrssion\n",
    "0: Product is absent in latest cart(not a reorder) \n",
    "\n",
    "1: Product is present in latest cart (reorder)"
   ]
  },
  {
   "cell_type": "code",
   "execution_count": 7,
   "metadata": {},
   "outputs": [
    {
     "name": "stdout",
     "output_type": "stream",
     "text": [
      "              precision    recall  f1-score   support\n",
      "\n",
      "           0       0.94      0.90      0.92   1065128\n",
      "           1       0.34      0.47      0.39    121245\n",
      "\n",
      "   micro avg       0.85      0.85      0.85   1186373\n",
      "   macro avg       0.64      0.68      0.66   1186373\n",
      "weighted avg       0.88      0.85      0.86   1186373\n",
      "\n"
     ]
    }
   ],
   "source": [
    "from sklearn.metrics import classification_report\n",
    "print(classification_report(y_te,y_pred_LR))"
   ]
  },
  {
   "cell_type": "markdown",
   "metadata": {},
   "source": [
    "- Of all the instances when the classifier classified a product as not being in the user's cart, 94% of times it was correct. **Precision for Class 0**:= 94%\n",
    "- For all instances that where the product was not part of user's latest order, 90% of time it was correctly classified.**Recall for Class 0**: 90%\n",
    "- **F1 Score for Class 0**: 0.92\n",
    "- In this testing dataset there were 1065128 instances of the product not being reordered.\n",
    "\n",
    "-----------------------------------------------------------------------------------------------\n",
    "- Of all the instances when the classifier classified a product as being in the user's cart, 34% of times it was correct. **Precision for Class 1**:= 34%\n",
    "- For all instances that where the product was a part of user's latest order, 47% of time it was correctly classified.**Recall for Class 1**: 47%\n",
    "- **F1 Score for Class 1**: 0.39\n",
    "- In this testing dataset there were 121245 instances of the same product being reordered.\n",
    "\n",
    "-----------------------------------------------------------------------------------------------\n",
    "\n",
    "The training and testing data has class imbalance.\n"
   ]
  },
  {
   "cell_type": "markdown",
   "metadata": {},
   "source": [
    "#### Confusion Matrix: Predicted vs true labels"
   ]
  },
  {
   "cell_type": "code",
   "execution_count": 9,
   "metadata": {},
   "outputs": [
    {
     "data": {
      "text/html": [
       "<div>\n",
       "<style scoped>\n",
       "    .dataframe tbody tr th:only-of-type {\n",
       "        vertical-align: middle;\n",
       "    }\n",
       "\n",
       "    .dataframe tbody tr th {\n",
       "        vertical-align: top;\n",
       "    }\n",
       "\n",
       "    .dataframe thead th {\n",
       "        text-align: right;\n",
       "    }\n",
       "</style>\n",
       "<table border=\"1\" class=\"dataframe\">\n",
       "  <thead>\n",
       "    <tr style=\"text-align: right;\">\n",
       "      <th>Predicted</th>\n",
       "      <th>0</th>\n",
       "      <th>1</th>\n",
       "      <th>All</th>\n",
       "    </tr>\n",
       "    <tr>\n",
       "      <th>True</th>\n",
       "      <th></th>\n",
       "      <th></th>\n",
       "      <th></th>\n",
       "    </tr>\n",
       "  </thead>\n",
       "  <tbody>\n",
       "    <tr>\n",
       "      <th>0</th>\n",
       "      <td>954012</td>\n",
       "      <td>111116</td>\n",
       "      <td>1065128</td>\n",
       "    </tr>\n",
       "    <tr>\n",
       "      <th>1</th>\n",
       "      <td>64184</td>\n",
       "      <td>57061</td>\n",
       "      <td>121245</td>\n",
       "    </tr>\n",
       "    <tr>\n",
       "      <th>All</th>\n",
       "      <td>1018196</td>\n",
       "      <td>168177</td>\n",
       "      <td>1186373</td>\n",
       "    </tr>\n",
       "  </tbody>\n",
       "</table>\n",
       "</div>"
      ],
      "text/plain": [
       "Predicted        0       1      All\n",
       "True                               \n",
       "0           954012  111116  1065128\n",
       "1            64184   57061   121245\n",
       "All        1018196  168177  1186373"
      ]
     },
     "execution_count": 9,
     "metadata": {},
     "output_type": "execute_result"
    }
   ],
   "source": [
    "pd.crosstab(y_te,y_pred_LR, rownames=['True'], colnames=['Predicted'], margins=True)"
   ]
  },
  {
   "cell_type": "markdown",
   "metadata": {},
   "source": [
    "\n",
    "**Out of 1065128 instances of a product not being ordered** -\n",
    "- 954025 times the classifier was correctly able to predict that the product would not be reordered\n",
    "- 111103   times the classifier misclassified a not ordered product as reordered product.\n",
    "\n",
    "**Out of 121245 instances of a product being reordered** -\n",
    "- 64188 times the classifier misclassified a reordered product as not currently ordered.\n",
    "- 57057 times the classifier correctly classified product as reordered\n",
    "\n",
    "-----------------------------------------------------------------------------------------------"
   ]
  },
  {
   "cell_type": "markdown",
   "metadata": {},
   "source": [
    "#### ROC Curve"
   ]
  },
  {
   "cell_type": "code",
   "execution_count": 12,
   "metadata": {},
   "outputs": [
    {
     "data": {
      "image/png": "[encoded data removed]",
      "text/plain": [
       "<Figure size 432x288 with 1 Axes>"
      ]
     },
     "metadata": {},
     "output_type": "display_data"
    },
    {
     "name": "stdout",
     "output_type": "stream",
     "text": [
      "0.7868745505797903\n"
     ]
    }
   ],
   "source": [
    "from sklearn.metrics import roc_curve, auc\n",
    "import matplotlib.pyplot as plt\n",
    "y_score_LR = log_sm_reg.predict_proba(X_te)[:,1]\n",
    "\n",
    "fpr_LR, tpr_LR,_ = roc_curve(y_te, y_score_LR)\n",
    "roc_auc_LR = auc(fpr_LR, tpr_LR)\n",
    "\n",
    "# Plotting our Baseline..\n",
    "plt.plot([0,1],[0,1], linestyle='--', color = 'black')\n",
    "plt.plot(fpr_LR, tpr_LR, color = 'green')\n",
    "plt.title('Receiver Operating Characteristic - for Logistic Regression')\n",
    "plt.xlabel('False Positive Rate')\n",
    "plt.ylabel('True Positive Rate')\n",
    "plt.gca().set_aspect('equal', adjustable='box')\n",
    "plt.show()\n",
    "print (roc_auc_LR)"
   ]
  },
  {
   "cell_type": "markdown",
   "metadata": {},
   "source": [
    "### Testing of Logistic Regression on Test dataset\n",
    "The final test data from order_products__test_cap.csv (order-product pair) is used for evaluating the performance of logistic regression "
   ]
  },
  {
   "cell_type": "code",
   "execution_count": 9,
   "metadata": {},
   "outputs": [],
   "source": [
    "#obtaining true labels of test data\n",
    "y_te_1= df_Test['in_cart']"
   ]
  },
  {
   "cell_type": "code",
   "execution_count": 10,
   "metadata": {},
   "outputs": [],
   "source": [
    "X_te_1 =df_Test.drop(['product_id','user_id','latest_cart','in_cart'],axis=1)\n",
    "X_te_1 = pd.DataFrame(scaler.fit_transform(X_te_1), columns=X_te_1.columns)"
   ]
  },
  {
   "cell_type": "code",
   "execution_count": 9,
   "metadata": {},
   "outputs": [
    {
     "data": {
      "text/plain": [
       "0.7678985455096302"
      ]
     },
     "execution_count": 9,
     "metadata": {},
     "output_type": "execute_result"
    }
   ],
   "source": [
    "#Predicting labels for test data\n",
    "y_pred_test = log_sm_reg.predict(X_te_1)\n",
    "scores = metrics.accuracy_score(y_te_1, y_pred_test)\n",
    "scores"
   ]
  },
  {
   "cell_type": "markdown",
   "metadata": {},
   "source": [
    "Accuracy on test data is 76.7%"
   ]
  },
  {
   "cell_type": "markdown",
   "metadata": {},
   "source": [
    "#### Confusion Matrix: Predicted vs true labels for TEST data"
   ]
  },
  {
   "cell_type": "code",
   "execution_count": 10,
   "metadata": {},
   "outputs": [
    {
     "data": {
      "text/html": [
       "<div>\n",
       "<style scoped>\n",
       "    .dataframe tbody tr th:only-of-type {\n",
       "        vertical-align: middle;\n",
       "    }\n",
       "\n",
       "    .dataframe tbody tr th {\n",
       "        vertical-align: top;\n",
       "    }\n",
       "\n",
       "    .dataframe thead th {\n",
       "        text-align: right;\n",
       "    }\n",
       "</style>\n",
       "<table border=\"1\" class=\"dataframe\">\n",
       "  <thead>\n",
       "    <tr style=\"text-align: right;\">\n",
       "      <th>Predicted</th>\n",
       "      <th>0</th>\n",
       "      <th>1</th>\n",
       "      <th>All</th>\n",
       "    </tr>\n",
       "    <tr>\n",
       "      <th>True</th>\n",
       "      <th></th>\n",
       "      <th></th>\n",
       "      <th></th>\n",
       "    </tr>\n",
       "  </thead>\n",
       "  <tbody>\n",
       "    <tr>\n",
       "      <th>0</th>\n",
       "      <td>1396049</td>\n",
       "      <td>390199</td>\n",
       "      <td>1786248</td>\n",
       "    </tr>\n",
       "    <tr>\n",
       "      <th>1</th>\n",
       "      <td>70991</td>\n",
       "      <td>129780</td>\n",
       "      <td>200771</td>\n",
       "    </tr>\n",
       "    <tr>\n",
       "      <th>All</th>\n",
       "      <td>1467040</td>\n",
       "      <td>519979</td>\n",
       "      <td>1987019</td>\n",
       "    </tr>\n",
       "  </tbody>\n",
       "</table>\n",
       "</div>"
      ],
      "text/plain": [
       "Predicted        0       1      All\n",
       "True                               \n",
       "0          1396049  390199  1786248\n",
       "1            70991  129780   200771\n",
       "All        1467040  519979  1987019"
      ]
     },
     "execution_count": 10,
     "metadata": {},
     "output_type": "execute_result"
    }
   ],
   "source": [
    "pd.crosstab(y_te_1,y_pred_test, rownames=['True'], colnames=['Predicted'], margins=True)"
   ]
  },
  {
   "cell_type": "markdown",
   "metadata": {},
   "source": [
    "In the testing data Out of 1987019 instances of products and its corresponding orders, Only 200771 of those products were also previously ordered by those users"
   ]
  },
  {
   "cell_type": "markdown",
   "metadata": {},
   "source": [
    "**Out of 1786248 instances of a product not being ordered ** -\n",
    "- 1396049 times the classifier was correctly able to predict that the product would not be reordered\n",
    "- 390199 times the classifier misclassified a not ordered product as reordered product.\n",
    "\n",
    "**Out of 200771 instances of a product being reordered** -\n",
    "- 70991 times the classifier misclassified a reordered product as not currently ordered.\n",
    "- 129780 times the classifier correctly classified product as reordered\n"
   ]
  },
  {
   "cell_type": "code",
   "execution_count": 11,
   "metadata": {},
   "outputs": [
    {
     "name": "stdout",
     "output_type": "stream",
     "text": [
      "             precision    recall  f1-score   support\n",
      "\n",
      "          0       0.95      0.78      0.86   1786248\n",
      "          1       0.25      0.65      0.36    200771\n",
      "\n",
      "avg / total       0.88      0.77      0.81   1987019\n",
      "\n"
     ]
    }
   ],
   "source": [
    "from sklearn.metrics import classification_report\n",
    "print(classification_report(y_te_1,y_pred_test))"
   ]
  },
  {
   "cell_type": "markdown",
   "metadata": {},
   "source": [
    "On the test dataset:\n",
    "- **Class 0** : Precision = 95% | Recall =78% | F1 Score=0.86\n",
    "- **Class 1** : Precision = 25% | Recall =65% | F1 Score=0.36"
   ]
  },
  {
   "cell_type": "markdown",
   "metadata": {},
   "source": [
    "## Model 2 : Random Forest"
   ]
  },
  {
   "cell_type": "code",
   "execution_count": 6,
   "metadata": {},
   "outputs": [
    {
     "name": "stderr",
     "output_type": "stream",
     "text": [
      "[Parallel(n_jobs=-1)]: Using backend ThreadingBackend with 4 concurrent workers.\n",
      "[Parallel(n_jobs=-1)]: Done  42 tasks      | elapsed: 10.2min\n",
      "[Parallel(n_jobs=-1)]: Done 100 out of 100 | elapsed: 23.7min finished\n"
     ]
    }
   ],
   "source": [
    "from sklearn.ensemble import RandomForestClassifier\n",
    "\n",
    "# Create the model with 100 trees\n",
    "RandomForest = RandomForestClassifier(n_estimators=100, \n",
    "                               random_state=50, \n",
    "                               max_features = 'sqrt',\n",
    "                               n_jobs=-1, verbose = 1)\n",
    "\n",
    "# Fit on training data\n",
    "Random_Forest=RandomForest.fit(X_tr, y_tr)"
   ]
  },
  {
   "cell_type": "code",
   "execution_count": 7,
   "metadata": {},
   "outputs": [
    {
     "name": "stderr",
     "output_type": "stream",
     "text": [
      "[Parallel(n_jobs=4)]: Using backend ThreadingBackend with 4 concurrent workers.\n",
      "[Parallel(n_jobs=4)]: Done  42 tasks      | elapsed:   14.4s\n",
      "[Parallel(n_jobs=4)]: Done 100 out of 100 | elapsed:   29.6s finished\n"
     ]
    },
    {
     "data": {
      "text/plain": [
       "0.9112993974070549"
      ]
     },
     "execution_count": 7,
     "metadata": {},
     "output_type": "execute_result"
    }
   ],
   "source": [
    "#Predicting for test data called X_te (this is obtained by splitting 20% of train data)\n",
    "y_pred_RandomForest = Random_Forest.predict(X_te)\n",
    "scores_RandomForest = metrics.accuracy_score(y_te, y_pred_RandomForest)\n",
    "scores_RandomForest"
   ]
  },
  {
   "cell_type": "markdown",
   "metadata": {},
   "source": [
    "### Performance Metrics for Random Forest"
   ]
  },
  {
   "cell_type": "code",
   "execution_count": 7,
   "metadata": {},
   "outputs": [
    {
     "name": "stdout",
     "output_type": "stream",
     "text": [
      "              precision    recall  f1-score   support\n",
      "\n",
      "           0       0.91      1.00      0.95   1065128\n",
      "           1       0.87      0.16      0.26    121245\n",
      "\n",
      "   micro avg       0.91      0.91      0.91   1186373\n",
      "   macro avg       0.89      0.58      0.61   1186373\n",
      "weighted avg       0.91      0.91      0.88   1186373\n",
      "\n"
     ]
    }
   ],
   "source": [
    "from sklearn.metrics import classification_report\n",
    "print(classification_report(y_te,y_pred_RandomForest))"
   ]
  },
  {
   "cell_type": "markdown",
   "metadata": {},
   "source": [
    "- Of all the instances when the classifier classified a product as not being in the user's cart, 91% of times it was correct. Precision for Class 0:= 91%\n",
    "- For all instances that where the product was not part of user's latest order, 100% of time it was correctly classified.Recall for Class 0: 100%\n",
    "- F1 Score for Class 0: 0.95\n",
    "- In this testing dataset there were 1065128 instances of the product not being reordered.\n",
    "\n",
    "----------------------------------------------------------------------------------------------\n",
    "- Of all the instances when the classifier classified a product as being in the user's cart, 87% of times it was correct. Precision for Class 1:= 87%\n",
    "- For all instances that where the product was a part of user's latest order, 16% of time it was correctly classified.Recall for Class 1: 16%\n",
    "- F1 Score for Class 1: 0.26\n",
    "- In this testing dataset there were 121245 instances of the same product being reordered.\n"
   ]
  },
  {
   "cell_type": "code",
   "execution_count": 8,
   "metadata": {},
   "outputs": [
    {
     "data": {
      "text/html": [
       "<div>\n",
       "<style scoped>\n",
       "    .dataframe tbody tr th:only-of-type {\n",
       "        vertical-align: middle;\n",
       "    }\n",
       "\n",
       "    .dataframe tbody tr th {\n",
       "        vertical-align: top;\n",
       "    }\n",
       "\n",
       "    .dataframe thead th {\n",
       "        text-align: right;\n",
       "    }\n",
       "</style>\n",
       "<table border=\"1\" class=\"dataframe\">\n",
       "  <thead>\n",
       "    <tr style=\"text-align: right;\">\n",
       "      <th>Predicted</th>\n",
       "      <th>0</th>\n",
       "      <th>1</th>\n",
       "      <th>All</th>\n",
       "    </tr>\n",
       "    <tr>\n",
       "      <th>True</th>\n",
       "      <th></th>\n",
       "      <th></th>\n",
       "      <th></th>\n",
       "    </tr>\n",
       "  </thead>\n",
       "  <tbody>\n",
       "    <tr>\n",
       "      <th>0</th>\n",
       "      <td>1062280</td>\n",
       "      <td>2848</td>\n",
       "      <td>1065128</td>\n",
       "    </tr>\n",
       "    <tr>\n",
       "      <th>1</th>\n",
       "      <td>102384</td>\n",
       "      <td>18861</td>\n",
       "      <td>121245</td>\n",
       "    </tr>\n",
       "    <tr>\n",
       "      <th>All</th>\n",
       "      <td>1164664</td>\n",
       "      <td>21709</td>\n",
       "      <td>1186373</td>\n",
       "    </tr>\n",
       "  </tbody>\n",
       "</table>\n",
       "</div>"
      ],
      "text/plain": [
       "Predicted        0      1      All\n",
       "True                              \n",
       "0          1062280   2848  1065128\n",
       "1           102384  18861   121245\n",
       "All        1164664  21709  1186373"
      ]
     },
     "execution_count": 8,
     "metadata": {},
     "output_type": "execute_result"
    }
   ],
   "source": [
    "pd.crosstab(y_te,y_pred_RandomForest, rownames=['True'], colnames=['Predicted'], margins=True)"
   ]
  },
  {
   "cell_type": "markdown",
   "metadata": {},
   "source": [
    "**Out of 1065128 instances of a product not being ordered** -\n",
    "- 1062280 times the classifier was correctly able to predict that the product would not be reordered\n",
    "- 2848   times the classifier misclassified a not ordered product as reordered product.\n",
    "\n",
    "**Out of 121245 instances of a product being reordered** -\n",
    "- 102384 times the classifier was correctly able to predict that the product would not be reordered\n",
    "- 18861   times the classifier misclassified a not ordered product as reordered product.\n"
   ]
  },
  {
   "cell_type": "markdown",
   "metadata": {},
   "source": [
    "### Testing of Random Forest on Test dataset"
   ]
  },
  {
   "cell_type": "markdown",
   "metadata": {},
   "source": [
    "The final test data from order_products__test_cap.csv (order-product pair) is used for evaluating the performance of random Forest"
   ]
  },
  {
   "cell_type": "code",
   "execution_count": 11,
   "metadata": {},
   "outputs": [
    {
     "name": "stderr",
     "output_type": "stream",
     "text": [
      "[Parallel(n_jobs=4)]: Using backend ThreadingBackend with 4 concurrent workers.\n",
      "[Parallel(n_jobs=4)]: Done  42 tasks      | elapsed:   21.0s\n",
      "[Parallel(n_jobs=4)]: Done 100 out of 100 | elapsed:   47.8s finished\n"
     ]
    },
    {
     "data": {
      "text/plain": [
       "0.9031544237875934"
      ]
     },
     "execution_count": 11,
     "metadata": {},
     "output_type": "execute_result"
    }
   ],
   "source": [
    "#Predicting labels for test data\n",
    "y_pred_test_RF = Random_Forest.predict(X_te_1)\n",
    "scores_RF = metrics.accuracy_score(y_te_1, y_pred_test_RF)\n",
    "scores_RF"
   ]
  },
  {
   "cell_type": "markdown",
   "metadata": {},
   "source": [
    "Accuracy of Model on Test data for random Forest is 90.31%"
   ]
  },
  {
   "cell_type": "markdown",
   "metadata": {},
   "source": [
    "#### Confusion Matrix :Random Forest for Final test Data"
   ]
  },
  {
   "cell_type": "code",
   "execution_count": 12,
   "metadata": {},
   "outputs": [
    {
     "data": {
      "text/html": [
       "<div>\n",
       "<style scoped>\n",
       "    .dataframe tbody tr th:only-of-type {\n",
       "        vertical-align: middle;\n",
       "    }\n",
       "\n",
       "    .dataframe tbody tr th {\n",
       "        vertical-align: top;\n",
       "    }\n",
       "\n",
       "    .dataframe thead th {\n",
       "        text-align: right;\n",
       "    }\n",
       "</style>\n",
       "<table border=\"1\" class=\"dataframe\">\n",
       "  <thead>\n",
       "    <tr style=\"text-align: right;\">\n",
       "      <th>Predicted</th>\n",
       "      <th>0</th>\n",
       "      <th>1</th>\n",
       "      <th>All</th>\n",
       "    </tr>\n",
       "    <tr>\n",
       "      <th>True</th>\n",
       "      <th></th>\n",
       "      <th></th>\n",
       "      <th></th>\n",
       "    </tr>\n",
       "  </thead>\n",
       "  <tbody>\n",
       "    <tr>\n",
       "      <th>0</th>\n",
       "      <td>1770742</td>\n",
       "      <td>15506</td>\n",
       "      <td>1786248</td>\n",
       "    </tr>\n",
       "    <tr>\n",
       "      <th>1</th>\n",
       "      <td>176928</td>\n",
       "      <td>23843</td>\n",
       "      <td>200771</td>\n",
       "    </tr>\n",
       "    <tr>\n",
       "      <th>All</th>\n",
       "      <td>1947670</td>\n",
       "      <td>39349</td>\n",
       "      <td>1987019</td>\n",
       "    </tr>\n",
       "  </tbody>\n",
       "</table>\n",
       "</div>"
      ],
      "text/plain": [
       "Predicted        0      1      All\n",
       "True                              \n",
       "0          1770742  15506  1786248\n",
       "1           176928  23843   200771\n",
       "All        1947670  39349  1987019"
      ]
     },
     "execution_count": 12,
     "metadata": {},
     "output_type": "execute_result"
    }
   ],
   "source": [
    "pd.crosstab(y_te_1,y_pred_test_RF, rownames=['True'], colnames=['Predicted'], margins=True)"
   ]
  },
  {
   "cell_type": "markdown",
   "metadata": {},
   "source": [
    "**Out of 1786248 instances of a product not being ordered ** -\n",
    "- 1770742 times the classifier was correctly able to predict that the product would not be reordered\n",
    "- 15506 times the classifier misclassified a not ordered product as reordered product.\n",
    "\n",
    "**Out of 200771 instances of a product being reordered** -\n",
    "- 176928 times the classifier misclassified a reordered product as not currently ordered.\n",
    "- 23843 times the classifier correctly classified product as reordered"
   ]
  },
  {
   "cell_type": "code",
   "execution_count": 14,
   "metadata": {},
   "outputs": [
    {
     "name": "stdout",
     "output_type": "stream",
     "text": [
      "              precision    recall  f1-score   support\n",
      "\n",
      "           0       0.91      0.99      0.95   1786248\n",
      "           1       0.61      0.12      0.20    200771\n",
      "\n",
      "   micro avg       0.90      0.90      0.90   1987019\n",
      "   macro avg       0.76      0.56      0.57   1987019\n",
      "weighted avg       0.88      0.90      0.87   1987019\n",
      "\n"
     ]
    }
   ],
   "source": [
    "from sklearn.metrics import classification_report\n",
    "print(classification_report(y_te_1,y_pred_test_RF))"
   ]
  },
  {
   "cell_type": "markdown",
   "metadata": {},
   "source": [
    "On the test dataset:\n",
    "- Class 0 : Precision = 91% | Recall =99% | F1 Score=0.95\n",
    "- Class 1 : Precision = 61% | Recall =12% | F1 Score=0.20\n"
   ]
  },
  {
   "cell_type": "markdown",
   "metadata": {},
   "source": [
    "## Feature Selection"
   ]
  },
  {
   "cell_type": "markdown",
   "metadata": {},
   "source": [
    "### Method1 : Feature Importance"
   ]
  },
  {
   "cell_type": "code",
   "execution_count": 9,
   "metadata": {},
   "outputs": [
    {
     "name": "stdout",
     "output_type": "stream",
     "text": [
      "[0.04797194 0.03634959 0.04564338 0.03480491 0.02720089 0.03377166\n",
      " 0.0350788  0.04009387 0.03391157 0.03384475 0.03412726 0.03139867\n",
      " 0.03220216 0.04566014 0.04786582 0.04707142 0.04650463 0.09905013\n",
      " 0.03801115 0.0454801  0.04341607 0.04434399 0.04585245 0.00022412\n",
      " 0.00071467 0.00200777 0.00234493 0.00146426 0.00019144 0.00141197\n",
      " 0.00339857 0.00191169 0.00123798 0.00252655 0.00113706 0.00056259\n",
      " 0.00142082 0.00058744 0.0001823  0.00188839 0.00065056 0.00040345\n",
      " 0.00339851 0.00267961]\n"
     ]
    }
   ],
   "source": [
    "print(RandomForest.feature_importances_)"
   ]
  },
  {
   "cell_type": "code",
   "execution_count": 10,
   "metadata": {
    "scrolled": true
   },
   "outputs": [
    {
     "data": {
      "text/plain": [
       "['Unnamed: 0',\n",
       " 'user_product_avg_add_to_cart_order',\n",
       " 'user_product_total_orders',\n",
       " 'user_product_avg_days_since_prior_order',\n",
       " 'user_product_avg_order_dow',\n",
       " 'user_product_avg_order_hour_of_day',\n",
       " 'product_total_orders',\n",
       " 'product_avg_add_to_cart_order',\n",
       " 'product_avg_order_dow',\n",
       " 'product_avg_order_hour_of_day',\n",
       " 'product_avg_days_since_prior_order',\n",
       " 'user_total_orders',\n",
       " 'user_avg_cartsize',\n",
       " 'user_total_products',\n",
       " 'user_avg_days_since_prior_order',\n",
       " 'user_avg_order_dow',\n",
       " 'user_avg_order_hour_of_day',\n",
       " 'user_product_order_freq',\n",
       " 'product_total_orders_delta_per_user',\n",
       " 'product_avg_add_to_cart_order_delta_per_user',\n",
       " 'product_avg_order_dow_per_user',\n",
       " 'product_avg_order_hour_of_day_per_user',\n",
       " 'product_avg_days_since_prior_order_per_user',\n",
       " 'alcohol',\n",
       " 'babies',\n",
       " 'bakery',\n",
       " 'beverages',\n",
       " 'breakfast',\n",
       " 'bulk',\n",
       " 'canned goods',\n",
       " 'dairy eggs',\n",
       " 'deli',\n",
       " 'dry goods pasta',\n",
       " 'frozen',\n",
       " 'household',\n",
       " 'international',\n",
       " 'meat seafood',\n",
       " 'missing',\n",
       " 'other',\n",
       " 'pantry',\n",
       " 'personal care',\n",
       " 'pets',\n",
       " 'produce',\n",
       " 'snacks']"
      ]
     },
     "execution_count": 10,
     "metadata": {},
     "output_type": "execute_result"
    }
   ],
   "source": [
    "list(X_tr.columns) "
   ]
  },
  {
   "cell_type": "code",
   "execution_count": 11,
   "metadata": {},
   "outputs": [
    {
     "data": {
      "text/html": [
       "<div>\n",
       "<style scoped>\n",
       "    .dataframe tbody tr th:only-of-type {\n",
       "        vertical-align: middle;\n",
       "    }\n",
       "\n",
       "    .dataframe tbody tr th {\n",
       "        vertical-align: top;\n",
       "    }\n",
       "\n",
       "    .dataframe thead th {\n",
       "        text-align: right;\n",
       "    }\n",
       "</style>\n",
       "<table border=\"1\" class=\"dataframe\">\n",
       "  <thead>\n",
       "    <tr style=\"text-align: right;\">\n",
       "      <th></th>\n",
       "      <th>Unnamed: 0</th>\n",
       "      <th>user_product_avg_add_to_cart_order</th>\n",
       "      <th>user_product_total_orders</th>\n",
       "      <th>user_product_avg_days_since_prior_order</th>\n",
       "      <th>user_product_avg_order_dow</th>\n",
       "      <th>user_product_avg_order_hour_of_day</th>\n",
       "      <th>product_total_orders</th>\n",
       "      <th>product_avg_add_to_cart_order</th>\n",
       "      <th>product_avg_order_dow</th>\n",
       "      <th>product_avg_order_hour_of_day</th>\n",
       "      <th>...</th>\n",
       "      <th>household</th>\n",
       "      <th>international</th>\n",
       "      <th>meat seafood</th>\n",
       "      <th>missing</th>\n",
       "      <th>other</th>\n",
       "      <th>pantry</th>\n",
       "      <th>personal care</th>\n",
       "      <th>pets</th>\n",
       "      <th>produce</th>\n",
       "      <th>snacks</th>\n",
       "    </tr>\n",
       "  </thead>\n",
       "  <tbody>\n",
       "    <tr>\n",
       "      <th>0</th>\n",
       "      <td>0.000000e+00</td>\n",
       "      <td>0.131944</td>\n",
       "      <td>0.000000</td>\n",
       "      <td>0.200000</td>\n",
       "      <td>0.000000</td>\n",
       "      <td>0.913043</td>\n",
       "      <td>0.003917</td>\n",
       "      <td>0.092343</td>\n",
       "      <td>0.462743</td>\n",
       "      <td>0.486217</td>\n",
       "      <td>...</td>\n",
       "      <td>0.0</td>\n",
       "      <td>0.0</td>\n",
       "      <td>0.0</td>\n",
       "      <td>0.0</td>\n",
       "      <td>0.0</td>\n",
       "      <td>0.0</td>\n",
       "      <td>0.0</td>\n",
       "      <td>0.0</td>\n",
       "      <td>0.0</td>\n",
       "      <td>1.0</td>\n",
       "    </tr>\n",
       "    <tr>\n",
       "      <th>1</th>\n",
       "      <td>1.684800e-07</td>\n",
       "      <td>0.041667</td>\n",
       "      <td>0.000000</td>\n",
       "      <td>0.866667</td>\n",
       "      <td>0.166667</td>\n",
       "      <td>0.304348</td>\n",
       "      <td>0.003917</td>\n",
       "      <td>0.092343</td>\n",
       "      <td>0.462743</td>\n",
       "      <td>0.486217</td>\n",
       "      <td>...</td>\n",
       "      <td>0.0</td>\n",
       "      <td>0.0</td>\n",
       "      <td>0.0</td>\n",
       "      <td>0.0</td>\n",
       "      <td>0.0</td>\n",
       "      <td>0.0</td>\n",
       "      <td>0.0</td>\n",
       "      <td>0.0</td>\n",
       "      <td>0.0</td>\n",
       "      <td>1.0</td>\n",
       "    </tr>\n",
       "    <tr>\n",
       "      <th>2</th>\n",
       "      <td>5.054400e-07</td>\n",
       "      <td>0.081019</td>\n",
       "      <td>0.020833</td>\n",
       "      <td>0.200000</td>\n",
       "      <td>0.555556</td>\n",
       "      <td>0.376812</td>\n",
       "      <td>0.003917</td>\n",
       "      <td>0.092343</td>\n",
       "      <td>0.462743</td>\n",
       "      <td>0.486217</td>\n",
       "      <td>...</td>\n",
       "      <td>0.0</td>\n",
       "      <td>0.0</td>\n",
       "      <td>0.0</td>\n",
       "      <td>0.0</td>\n",
       "      <td>0.0</td>\n",
       "      <td>0.0</td>\n",
       "      <td>0.0</td>\n",
       "      <td>0.0</td>\n",
       "      <td>0.0</td>\n",
       "      <td>1.0</td>\n",
       "    </tr>\n",
       "    <tr>\n",
       "      <th>3</th>\n",
       "      <td>6.739200e-07</td>\n",
       "      <td>0.062500</td>\n",
       "      <td>0.000000</td>\n",
       "      <td>0.300000</td>\n",
       "      <td>0.166667</td>\n",
       "      <td>0.695652</td>\n",
       "      <td>0.003917</td>\n",
       "      <td>0.092343</td>\n",
       "      <td>0.462743</td>\n",
       "      <td>0.486217</td>\n",
       "      <td>...</td>\n",
       "      <td>0.0</td>\n",
       "      <td>0.0</td>\n",
       "      <td>0.0</td>\n",
       "      <td>0.0</td>\n",
       "      <td>0.0</td>\n",
       "      <td>0.0</td>\n",
       "      <td>0.0</td>\n",
       "      <td>0.0</td>\n",
       "      <td>0.0</td>\n",
       "      <td>1.0</td>\n",
       "    </tr>\n",
       "    <tr>\n",
       "      <th>4</th>\n",
       "      <td>1.010880e-06</td>\n",
       "      <td>0.006944</td>\n",
       "      <td>0.000000</td>\n",
       "      <td>1.000000</td>\n",
       "      <td>0.000000</td>\n",
       "      <td>0.347826</td>\n",
       "      <td>0.003917</td>\n",
       "      <td>0.092343</td>\n",
       "      <td>0.462743</td>\n",
       "      <td>0.486217</td>\n",
       "      <td>...</td>\n",
       "      <td>0.0</td>\n",
       "      <td>0.0</td>\n",
       "      <td>0.0</td>\n",
       "      <td>0.0</td>\n",
       "      <td>0.0</td>\n",
       "      <td>0.0</td>\n",
       "      <td>0.0</td>\n",
       "      <td>0.0</td>\n",
       "      <td>0.0</td>\n",
       "      <td>1.0</td>\n",
       "    </tr>\n",
       "  </tbody>\n",
       "</table>\n",
       "<p>5 rows × 44 columns</p>\n",
       "</div>"
      ],
      "text/plain": [
       "     Unnamed: 0  user_product_avg_add_to_cart_order  \\\n",
       "0  0.000000e+00                            0.131944   \n",
       "1  1.684800e-07                            0.041667   \n",
       "2  5.054400e-07                            0.081019   \n",
       "3  6.739200e-07                            0.062500   \n",
       "4  1.010880e-06                            0.006944   \n",
       "\n",
       "   user_product_total_orders  user_product_avg_days_since_prior_order  \\\n",
       "0                   0.000000                                 0.200000   \n",
       "1                   0.000000                                 0.866667   \n",
       "2                   0.020833                                 0.200000   \n",
       "3                   0.000000                                 0.300000   \n",
       "4                   0.000000                                 1.000000   \n",
       "\n",
       "   user_product_avg_order_dow  user_product_avg_order_hour_of_day  \\\n",
       "0                    0.000000                            0.913043   \n",
       "1                    0.166667                            0.304348   \n",
       "2                    0.555556                            0.376812   \n",
       "3                    0.166667                            0.695652   \n",
       "4                    0.000000                            0.347826   \n",
       "\n",
       "   product_total_orders  product_avg_add_to_cart_order  product_avg_order_dow  \\\n",
       "0              0.003917                       0.092343               0.462743   \n",
       "1              0.003917                       0.092343               0.462743   \n",
       "2              0.003917                       0.092343               0.462743   \n",
       "3              0.003917                       0.092343               0.462743   \n",
       "4              0.003917                       0.092343               0.462743   \n",
       "\n",
       "   product_avg_order_hour_of_day   ...    household  international  \\\n",
       "0                       0.486217   ...          0.0            0.0   \n",
       "1                       0.486217   ...          0.0            0.0   \n",
       "2                       0.486217   ...          0.0            0.0   \n",
       "3                       0.486217   ...          0.0            0.0   \n",
       "4                       0.486217   ...          0.0            0.0   \n",
       "\n",
       "   meat seafood  missing  other  pantry  personal care  pets  produce  snacks  \n",
       "0           0.0      0.0    0.0     0.0            0.0   0.0      0.0     1.0  \n",
       "1           0.0      0.0    0.0     0.0            0.0   0.0      0.0     1.0  \n",
       "2           0.0      0.0    0.0     0.0            0.0   0.0      0.0     1.0  \n",
       "3           0.0      0.0    0.0     0.0            0.0   0.0      0.0     1.0  \n",
       "4           0.0      0.0    0.0     0.0            0.0   0.0      0.0     1.0  \n",
       "\n",
       "[5 rows x 44 columns]"
      ]
     },
     "execution_count": 11,
     "metadata": {},
     "output_type": "execute_result"
    }
   ],
   "source": [
    "X_tr.head()"
   ]
  },
  {
   "cell_type": "code",
   "execution_count": 12,
   "metadata": {},
   "outputs": [],
   "source": [
    "# selecting only imp features\n",
    "\n",
    "X_tr_fi= X_tr[[ 'user_product_order_freq', 'user_avg_days_since_prior_order', 'user_avg_order_dow','user_avg_order_hour_of_day','product_avg_days_since_prior_order_per_user','user_total_products','user_product_total_orders','product_avg_add_to_cart_order_delta_per_user','product_avg_order_hour_of_day_per_user','product_avg_order_dow_per_user','product_avg_add_to_cart_order']]"
   ]
  },
  {
   "cell_type": "code",
   "execution_count": 18,
   "metadata": {},
   "outputs": [],
   "source": [
    "X_te_fi= X_te[[ 'user_product_order_freq', 'user_avg_days_since_prior_order', 'user_avg_order_dow','user_avg_order_hour_of_day','product_avg_days_since_prior_order_per_user','user_total_products','user_product_total_orders','product_avg_add_to_cart_order_delta_per_user','product_avg_order_hour_of_day_per_user','product_avg_order_dow_per_user','product_avg_add_to_cart_order']]"
   ]
  },
  {
   "cell_type": "code",
   "execution_count": 14,
   "metadata": {},
   "outputs": [
    {
     "data": {
      "text/html": [
       "<div>\n",
       "<style scoped>\n",
       "    .dataframe tbody tr th:only-of-type {\n",
       "        vertical-align: middle;\n",
       "    }\n",
       "\n",
       "    .dataframe tbody tr th {\n",
       "        vertical-align: top;\n",
       "    }\n",
       "\n",
       "    .dataframe thead th {\n",
       "        text-align: right;\n",
       "    }\n",
       "</style>\n",
       "<table border=\"1\" class=\"dataframe\">\n",
       "  <thead>\n",
       "    <tr style=\"text-align: right;\">\n",
       "      <th></th>\n",
       "      <th>user_product_order_freq</th>\n",
       "      <th>user_avg_days_since_prior_order</th>\n",
       "      <th>user_avg_order_dow</th>\n",
       "      <th>user_avg_order_hour_of_day</th>\n",
       "      <th>product_avg_days_since_prior_order_per_user</th>\n",
       "      <th>user_total_products</th>\n",
       "      <th>user_product_total_orders</th>\n",
       "      <th>product_avg_add_to_cart_order_delta_per_user</th>\n",
       "      <th>product_avg_order_hour_of_day_per_user</th>\n",
       "      <th>product_avg_order_dow_per_user</th>\n",
       "      <th>product_avg_add_to_cart_order</th>\n",
       "    </tr>\n",
       "  </thead>\n",
       "  <tbody>\n",
       "    <tr>\n",
       "      <th>0</th>\n",
       "      <td>0.191837</td>\n",
       "      <td>0.235699</td>\n",
       "      <td>0.275174</td>\n",
       "      <td>0.845989</td>\n",
       "      <td>0.636167</td>\n",
       "      <td>0.184828</td>\n",
       "      <td>0.000000</td>\n",
       "      <td>0.739605</td>\n",
       "      <td>0.164339</td>\n",
       "      <td>0.755193</td>\n",
       "      <td>0.092343</td>\n",
       "    </tr>\n",
       "    <tr>\n",
       "      <th>1</th>\n",
       "      <td>0.028650</td>\n",
       "      <td>0.420795</td>\n",
       "      <td>0.489676</td>\n",
       "      <td>0.512705</td>\n",
       "      <td>0.209815</td>\n",
       "      <td>0.040000</td>\n",
       "      <td>0.000000</td>\n",
       "      <td>0.817742</td>\n",
       "      <td>0.656411</td>\n",
       "      <td>0.659448</td>\n",
       "      <td>0.092343</td>\n",
       "    </tr>\n",
       "    <tr>\n",
       "      <th>2</th>\n",
       "      <td>0.222920</td>\n",
       "      <td>0.209453</td>\n",
       "      <td>0.464135</td>\n",
       "      <td>0.534513</td>\n",
       "      <td>0.636167</td>\n",
       "      <td>0.096552</td>\n",
       "      <td>0.020833</td>\n",
       "      <td>0.783682</td>\n",
       "      <td>0.597831</td>\n",
       "      <td>0.436044</td>\n",
       "      <td>0.092343</td>\n",
       "    </tr>\n",
       "    <tr>\n",
       "      <th>3</th>\n",
       "      <td>0.033718</td>\n",
       "      <td>0.302958</td>\n",
       "      <td>0.409241</td>\n",
       "      <td>0.613046</td>\n",
       "      <td>0.572214</td>\n",
       "      <td>0.172414</td>\n",
       "      <td>0.000000</td>\n",
       "      <td>0.799710</td>\n",
       "      <td>0.340079</td>\n",
       "      <td>0.659448</td>\n",
       "      <td>0.092343</td>\n",
       "    </tr>\n",
       "    <tr>\n",
       "      <th>4</th>\n",
       "      <td>0.102041</td>\n",
       "      <td>0.951220</td>\n",
       "      <td>0.392593</td>\n",
       "      <td>0.540655</td>\n",
       "      <td>0.124545</td>\n",
       "      <td>0.028966</td>\n",
       "      <td>0.000000</td>\n",
       "      <td>0.847794</td>\n",
       "      <td>0.621263</td>\n",
       "      <td>0.755193</td>\n",
       "      <td>0.092343</td>\n",
       "    </tr>\n",
       "  </tbody>\n",
       "</table>\n",
       "</div>"
      ],
      "text/plain": [
       "   user_product_order_freq  user_avg_days_since_prior_order  \\\n",
       "0                 0.191837                         0.235699   \n",
       "1                 0.028650                         0.420795   \n",
       "2                 0.222920                         0.209453   \n",
       "3                 0.033718                         0.302958   \n",
       "4                 0.102041                         0.951220   \n",
       "\n",
       "   user_avg_order_dow  user_avg_order_hour_of_day  \\\n",
       "0            0.275174                    0.845989   \n",
       "1            0.489676                    0.512705   \n",
       "2            0.464135                    0.534513   \n",
       "3            0.409241                    0.613046   \n",
       "4            0.392593                    0.540655   \n",
       "\n",
       "   product_avg_days_since_prior_order_per_user  user_total_products  \\\n",
       "0                                     0.636167             0.184828   \n",
       "1                                     0.209815             0.040000   \n",
       "2                                     0.636167             0.096552   \n",
       "3                                     0.572214             0.172414   \n",
       "4                                     0.124545             0.028966   \n",
       "\n",
       "   user_product_total_orders  product_avg_add_to_cart_order_delta_per_user  \\\n",
       "0                   0.000000                                      0.739605   \n",
       "1                   0.000000                                      0.817742   \n",
       "2                   0.020833                                      0.783682   \n",
       "3                   0.000000                                      0.799710   \n",
       "4                   0.000000                                      0.847794   \n",
       "\n",
       "   product_avg_order_hour_of_day_per_user  product_avg_order_dow_per_user  \\\n",
       "0                                0.164339                        0.755193   \n",
       "1                                0.656411                        0.659448   \n",
       "2                                0.597831                        0.436044   \n",
       "3                                0.340079                        0.659448   \n",
       "4                                0.621263                        0.755193   \n",
       "\n",
       "   product_avg_add_to_cart_order  \n",
       "0                       0.092343  \n",
       "1                       0.092343  \n",
       "2                       0.092343  \n",
       "3                       0.092343  \n",
       "4                       0.092343  "
      ]
     },
     "execution_count": 14,
     "metadata": {},
     "output_type": "execute_result"
    }
   ],
   "source": [
    "X_tr_fi.head()"
   ]
  },
  {
   "cell_type": "code",
   "execution_count": 19,
   "metadata": {},
   "outputs": [
    {
     "data": {
      "text/plain": [
       "0.8556861964997518"
      ]
     },
     "execution_count": 19,
     "metadata": {},
     "output_type": "execute_result"
    }
   ],
   "source": [
    "#logistic regression with 11 imp features\n",
    "lr = LogisticRegression(class_weight='balanced')\n",
    "log_12_imp_fe=lr.fit(X_tr_fi, y_tr)\n",
    "\n",
    "#Predicting for test data called X_te (this is obtained by splitting 20% of train data)\n",
    "y_pred_LR_12_fi = log_12_imp_fe.predict(X_te_fi)\n",
    "scores_LR_12_fi = metrics.accuracy_score(y_te, y_pred_LR_12_fi)\n",
    "scores_LR_12_fi"
   ]
  },
  {
   "cell_type": "code",
   "execution_count": 20,
   "metadata": {},
   "outputs": [
    {
     "name": "stdout",
     "output_type": "stream",
     "text": [
      "              precision    recall  f1-score   support\n",
      "\n",
      "           0       0.94      0.90      0.92   1065128\n",
      "           1       0.34      0.45      0.39    121245\n",
      "\n",
      "   micro avg       0.86      0.86      0.86   1186373\n",
      "   macro avg       0.64      0.68      0.65   1186373\n",
      "weighted avg       0.87      0.86      0.86   1186373\n",
      "\n"
     ]
    }
   ],
   "source": [
    "from sklearn.metrics import classification_report\n",
    "print(classification_report(y_te,y_pred_LR_12_fi))"
   ]
  },
  {
   "cell_type": "code",
   "execution_count": 21,
   "metadata": {},
   "outputs": [
    {
     "data": {
      "text/html": [
       "<div>\n",
       "<style scoped>\n",
       "    .dataframe tbody tr th:only-of-type {\n",
       "        vertical-align: middle;\n",
       "    }\n",
       "\n",
       "    .dataframe tbody tr th {\n",
       "        vertical-align: top;\n",
       "    }\n",
       "\n",
       "    .dataframe thead th {\n",
       "        text-align: right;\n",
       "    }\n",
       "</style>\n",
       "<table border=\"1\" class=\"dataframe\">\n",
       "  <thead>\n",
       "    <tr style=\"text-align: right;\">\n",
       "      <th>Predicted</th>\n",
       "      <th>0</th>\n",
       "      <th>1</th>\n",
       "      <th>All</th>\n",
       "    </tr>\n",
       "    <tr>\n",
       "      <th>True</th>\n",
       "      <th></th>\n",
       "      <th></th>\n",
       "      <th></th>\n",
       "    </tr>\n",
       "  </thead>\n",
       "  <tbody>\n",
       "    <tr>\n",
       "      <th>0</th>\n",
       "      <td>960531</td>\n",
       "      <td>104597</td>\n",
       "      <td>1065128</td>\n",
       "    </tr>\n",
       "    <tr>\n",
       "      <th>1</th>\n",
       "      <td>66613</td>\n",
       "      <td>54632</td>\n",
       "      <td>121245</td>\n",
       "    </tr>\n",
       "    <tr>\n",
       "      <th>All</th>\n",
       "      <td>1027144</td>\n",
       "      <td>159229</td>\n",
       "      <td>1186373</td>\n",
       "    </tr>\n",
       "  </tbody>\n",
       "</table>\n",
       "</div>"
      ],
      "text/plain": [
       "Predicted        0       1      All\n",
       "True                               \n",
       "0           960531  104597  1065128\n",
       "1            66613   54632   121245\n",
       "All        1027144  159229  1186373"
      ]
     },
     "execution_count": 21,
     "metadata": {},
     "output_type": "execute_result"
    }
   ],
   "source": [
    "pd.crosstab(y_te,y_pred_LR_12_fi, rownames=['True'], colnames=['Predicted'], margins=True)"
   ]
  },
  {
   "cell_type": "code",
   "execution_count": null,
   "metadata": {},
   "outputs": [],
   "source": []
  }
 ],
 "metadata": {
  "kernelspec": {
   "display_name": "Python 2",
   "language": "python",
   "name": "python2"
  },
  "language_info": {
   "codemirror_mode": {
    "name": "ipython",
    "version": 2
   },
   "file_extension": ".py",
   "mimetype": "text/x-python",
   "name": "python",
   "nbconvert_exporter": "python",
   "pygments_lexer": "ipython2",
   "version": "2.7.15"
  }
 },
 "nbformat": 4,
 "nbformat_minor": 2
}
